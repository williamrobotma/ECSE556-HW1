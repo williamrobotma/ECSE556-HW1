{
 "cells": [
  {
   "cell_type": "code",
   "execution_count": 1,
   "id": "6abe356d-6035-41fa-8494-434db622eec3",
   "metadata": {},
   "outputs": [],
   "source": [
    "import pandas as pd\n",
    "import numpy as np\n",
    "import sklearn"
   ]
  },
  {
   "cell_type": "markdown",
   "id": "c8e016be-99c7-4915-ac53-1b538936caf6",
   "metadata": {},
   "source": [
    "# EDA"
   ]
  },
  {
   "cell_type": "code",
   "execution_count": 2,
   "id": "c6cc54ce-645d-435e-bb15-8d65e9fca5a4",
   "metadata": {},
   "outputs": [],
   "source": [
    "cells = pd.read_csv(\"TG_LASSO_GeneExpressionInput/TG_LASSO_GeneExpressionInput/gdsc_expr_postCB.csv\",  index_col=0)"
   ]
  },
  {
   "cell_type": "markdown",
   "id": "699b45b3-817f-4e82-9e13-a5efc39dc33f",
   "metadata": {},
   "source": [
    "Columns are cell lines are samples, so we flip it"
   ]
  },
  {
   "cell_type": "code",
   "execution_count": 3,
   "id": "2b496ec4-46f1-46be-a42f-69696520ce60",
   "metadata": {},
   "outputs": [],
   "source": [
    "cellsT = cells.T"
   ]
  },
  {
   "cell_type": "code",
   "execution_count": 4,
   "id": "63132ab3-d913-49c2-a077-608b0e0bb58c",
   "metadata": {},
   "outputs": [
    {
     "data": {
      "text/html": [
       "<div>\n",
       "<style scoped>\n",
       "    .dataframe tbody tr th:only-of-type {\n",
       "        vertical-align: middle;\n",
       "    }\n",
       "\n",
       "    .dataframe tbody tr th {\n",
       "        vertical-align: top;\n",
       "    }\n",
       "\n",
       "    .dataframe thead th {\n",
       "        text-align: right;\n",
       "    }\n",
       "</style>\n",
       "<table border=\"1\" class=\"dataframe\">\n",
       "  <thead>\n",
       "    <tr style=\"text-align: right;\">\n",
       "      <th></th>\n",
       "      <th>ENSG00000000003</th>\n",
       "      <th>ENSG00000000419</th>\n",
       "      <th>ENSG00000000457</th>\n",
       "      <th>ENSG00000000460</th>\n",
       "      <th>ENSG00000000938</th>\n",
       "      <th>ENSG00000000971</th>\n",
       "      <th>ENSG00000001036</th>\n",
       "      <th>ENSG00000001084</th>\n",
       "      <th>ENSG00000001167</th>\n",
       "      <th>ENSG00000001460</th>\n",
       "      <th>...</th>\n",
       "      <th>ENSG00000261685</th>\n",
       "      <th>ENSG00000261701</th>\n",
       "      <th>ENSG00000261857</th>\n",
       "      <th>ENSG00000263002</th>\n",
       "      <th>ENSG00000263843</th>\n",
       "      <th>ENSG00000264247</th>\n",
       "      <th>ENSG00000264575</th>\n",
       "      <th>ENSG00000265298</th>\n",
       "      <th>ENSG00000265929</th>\n",
       "      <th>ENSG00000266282</th>\n",
       "    </tr>\n",
       "  </thead>\n",
       "  <tbody>\n",
       "    <tr>\n",
       "      <th>count</th>\n",
       "      <td>979.000000</td>\n",
       "      <td>979.000000</td>\n",
       "      <td>979.000000</td>\n",
       "      <td>979.000000</td>\n",
       "      <td>979.000000</td>\n",
       "      <td>979.000000</td>\n",
       "      <td>979.000000</td>\n",
       "      <td>979.000000</td>\n",
       "      <td>979.000000</td>\n",
       "      <td>979.000000</td>\n",
       "      <td>...</td>\n",
       "      <td>979.000000</td>\n",
       "      <td>979.000000</td>\n",
       "      <td>979.000000</td>\n",
       "      <td>979.000000</td>\n",
       "      <td>979.000000</td>\n",
       "      <td>979.000000</td>\n",
       "      <td>979.000000</td>\n",
       "      <td>979.000000</td>\n",
       "      <td>979.000000</td>\n",
       "      <td>979.000000</td>\n",
       "    </tr>\n",
       "    <tr>\n",
       "      <th>mean</th>\n",
       "      <td>5.616081</td>\n",
       "      <td>8.184602</td>\n",
       "      <td>3.240549</td>\n",
       "      <td>2.625700</td>\n",
       "      <td>2.826448</td>\n",
       "      <td>3.688519</td>\n",
       "      <td>6.152474</td>\n",
       "      <td>4.771073</td>\n",
       "      <td>4.560786</td>\n",
       "      <td>2.441220</td>\n",
       "      <td>...</td>\n",
       "      <td>2.396055</td>\n",
       "      <td>1.299202</td>\n",
       "      <td>2.471192</td>\n",
       "      <td>3.045121</td>\n",
       "      <td>2.317518</td>\n",
       "      <td>2.848518</td>\n",
       "      <td>3.307870</td>\n",
       "      <td>6.373915</td>\n",
       "      <td>1.679950</td>\n",
       "      <td>5.542397</td>\n",
       "    </tr>\n",
       "    <tr>\n",
       "      <th>std</th>\n",
       "      <td>1.615159</td>\n",
       "      <td>0.578248</td>\n",
       "      <td>0.558842</td>\n",
       "      <td>0.617289</td>\n",
       "      <td>1.086662</td>\n",
       "      <td>1.719458</td>\n",
       "      <td>1.469351</td>\n",
       "      <td>1.095915</td>\n",
       "      <td>0.664583</td>\n",
       "      <td>0.586341</td>\n",
       "      <td>...</td>\n",
       "      <td>1.626232</td>\n",
       "      <td>1.394185</td>\n",
       "      <td>1.901716</td>\n",
       "      <td>0.487297</td>\n",
       "      <td>0.516274</td>\n",
       "      <td>0.641210</td>\n",
       "      <td>1.051554</td>\n",
       "      <td>0.730267</td>\n",
       "      <td>1.477778</td>\n",
       "      <td>0.790017</td>\n",
       "    </tr>\n",
       "    <tr>\n",
       "      <th>min</th>\n",
       "      <td>2.478080</td>\n",
       "      <td>1.010429</td>\n",
       "      <td>2.060476</td>\n",
       "      <td>1.423062</td>\n",
       "      <td>2.132002</td>\n",
       "      <td>1.997728</td>\n",
       "      <td>2.353709</td>\n",
       "      <td>1.845859</td>\n",
       "      <td>3.075438</td>\n",
       "      <td>1.146083</td>\n",
       "      <td>...</td>\n",
       "      <td>1.157664</td>\n",
       "      <td>-0.556403</td>\n",
       "      <td>0.965709</td>\n",
       "      <td>1.792216</td>\n",
       "      <td>0.972288</td>\n",
       "      <td>1.906680</td>\n",
       "      <td>1.164410</td>\n",
       "      <td>4.249395</td>\n",
       "      <td>0.357473</td>\n",
       "      <td>1.719171</td>\n",
       "    </tr>\n",
       "    <tr>\n",
       "      <th>25%</th>\n",
       "      <td>4.988018</td>\n",
       "      <td>7.822825</td>\n",
       "      <td>2.857939</td>\n",
       "      <td>2.178742</td>\n",
       "      <td>2.449539</td>\n",
       "      <td>2.493742</td>\n",
       "      <td>5.848949</td>\n",
       "      <td>4.069281</td>\n",
       "      <td>4.100525</td>\n",
       "      <td>2.033299</td>\n",
       "      <td>...</td>\n",
       "      <td>1.638643</td>\n",
       "      <td>0.782973</td>\n",
       "      <td>1.646073</td>\n",
       "      <td>2.713212</td>\n",
       "      <td>1.967198</td>\n",
       "      <td>2.460341</td>\n",
       "      <td>2.529131</td>\n",
       "      <td>5.851927</td>\n",
       "      <td>1.045082</td>\n",
       "      <td>5.043732</td>\n",
       "    </tr>\n",
       "    <tr>\n",
       "      <th>50%</th>\n",
       "      <td>6.137223</td>\n",
       "      <td>8.177196</td>\n",
       "      <td>3.145284</td>\n",
       "      <td>2.509144</td>\n",
       "      <td>2.564273</td>\n",
       "      <td>2.747983</td>\n",
       "      <td>6.605780</td>\n",
       "      <td>4.543546</td>\n",
       "      <td>4.484364</td>\n",
       "      <td>2.348046</td>\n",
       "      <td>...</td>\n",
       "      <td>1.847427</td>\n",
       "      <td>1.184600</td>\n",
       "      <td>1.862778</td>\n",
       "      <td>3.019886</td>\n",
       "      <td>2.269962</td>\n",
       "      <td>2.681192</td>\n",
       "      <td>3.214411</td>\n",
       "      <td>6.350442</td>\n",
       "      <td>1.287334</td>\n",
       "      <td>5.544246</td>\n",
       "    </tr>\n",
       "    <tr>\n",
       "      <th>75%</th>\n",
       "      <td>6.704101</td>\n",
       "      <td>8.544412</td>\n",
       "      <td>3.497180</td>\n",
       "      <td>2.980124</td>\n",
       "      <td>2.695955</td>\n",
       "      <td>4.634769</td>\n",
       "      <td>7.097506</td>\n",
       "      <td>5.284285</td>\n",
       "      <td>4.928840</td>\n",
       "      <td>2.759277</td>\n",
       "      <td>...</td>\n",
       "      <td>2.264629</td>\n",
       "      <td>1.558609</td>\n",
       "      <td>2.240749</td>\n",
       "      <td>3.361101</td>\n",
       "      <td>2.628525</td>\n",
       "      <td>3.003758</td>\n",
       "      <td>3.987572</td>\n",
       "      <td>6.863172</td>\n",
       "      <td>1.604504</td>\n",
       "      <td>5.977486</td>\n",
       "    </tr>\n",
       "    <tr>\n",
       "      <th>max</th>\n",
       "      <td>9.071790</td>\n",
       "      <td>10.089456</td>\n",
       "      <td>5.876035</td>\n",
       "      <td>5.036346</td>\n",
       "      <td>10.795663</td>\n",
       "      <td>9.950181</td>\n",
       "      <td>8.890287</td>\n",
       "      <td>9.282193</td>\n",
       "      <td>7.836351</td>\n",
       "      <td>5.607175</td>\n",
       "      <td>...</td>\n",
       "      <td>13.124424</td>\n",
       "      <td>26.905691</td>\n",
       "      <td>11.381738</td>\n",
       "      <td>4.731316</td>\n",
       "      <td>4.489086</td>\n",
       "      <td>6.825467</td>\n",
       "      <td>6.493159</td>\n",
       "      <td>8.911424</td>\n",
       "      <td>9.573914</td>\n",
       "      <td>9.177348</td>\n",
       "    </tr>\n",
       "  </tbody>\n",
       "</table>\n",
       "<p>8 rows × 13941 columns</p>\n",
       "</div>"
      ],
      "text/plain": [
       "       ENSG00000000003  ENSG00000000419  ENSG00000000457  ENSG00000000460  \\\n",
       "count       979.000000       979.000000       979.000000       979.000000   \n",
       "mean          5.616081         8.184602         3.240549         2.625700   \n",
       "std           1.615159         0.578248         0.558842         0.617289   \n",
       "min           2.478080         1.010429         2.060476         1.423062   \n",
       "25%           4.988018         7.822825         2.857939         2.178742   \n",
       "50%           6.137223         8.177196         3.145284         2.509144   \n",
       "75%           6.704101         8.544412         3.497180         2.980124   \n",
       "max           9.071790        10.089456         5.876035         5.036346   \n",
       "\n",
       "       ENSG00000000938  ENSG00000000971  ENSG00000001036  ENSG00000001084  \\\n",
       "count       979.000000       979.000000       979.000000       979.000000   \n",
       "mean          2.826448         3.688519         6.152474         4.771073   \n",
       "std           1.086662         1.719458         1.469351         1.095915   \n",
       "min           2.132002         1.997728         2.353709         1.845859   \n",
       "25%           2.449539         2.493742         5.848949         4.069281   \n",
       "50%           2.564273         2.747983         6.605780         4.543546   \n",
       "75%           2.695955         4.634769         7.097506         5.284285   \n",
       "max          10.795663         9.950181         8.890287         9.282193   \n",
       "\n",
       "       ENSG00000001167  ENSG00000001460  ...  ENSG00000261685  \\\n",
       "count       979.000000       979.000000  ...       979.000000   \n",
       "mean          4.560786         2.441220  ...         2.396055   \n",
       "std           0.664583         0.586341  ...         1.626232   \n",
       "min           3.075438         1.146083  ...         1.157664   \n",
       "25%           4.100525         2.033299  ...         1.638643   \n",
       "50%           4.484364         2.348046  ...         1.847427   \n",
       "75%           4.928840         2.759277  ...         2.264629   \n",
       "max           7.836351         5.607175  ...        13.124424   \n",
       "\n",
       "       ENSG00000261701  ENSG00000261857  ENSG00000263002  ENSG00000263843  \\\n",
       "count       979.000000       979.000000       979.000000       979.000000   \n",
       "mean          1.299202         2.471192         3.045121         2.317518   \n",
       "std           1.394185         1.901716         0.487297         0.516274   \n",
       "min          -0.556403         0.965709         1.792216         0.972288   \n",
       "25%           0.782973         1.646073         2.713212         1.967198   \n",
       "50%           1.184600         1.862778         3.019886         2.269962   \n",
       "75%           1.558609         2.240749         3.361101         2.628525   \n",
       "max          26.905691        11.381738         4.731316         4.489086   \n",
       "\n",
       "       ENSG00000264247  ENSG00000264575  ENSG00000265298  ENSG00000265929  \\\n",
       "count       979.000000       979.000000       979.000000       979.000000   \n",
       "mean          2.848518         3.307870         6.373915         1.679950   \n",
       "std           0.641210         1.051554         0.730267         1.477778   \n",
       "min           1.906680         1.164410         4.249395         0.357473   \n",
       "25%           2.460341         2.529131         5.851927         1.045082   \n",
       "50%           2.681192         3.214411         6.350442         1.287334   \n",
       "75%           3.003758         3.987572         6.863172         1.604504   \n",
       "max           6.825467         6.493159         8.911424         9.573914   \n",
       "\n",
       "       ENSG00000266282  \n",
       "count       979.000000  \n",
       "mean          5.542397  \n",
       "std           0.790017  \n",
       "min           1.719171  \n",
       "25%           5.043732  \n",
       "50%           5.544246  \n",
       "75%           5.977486  \n",
       "max           9.177348  \n",
       "\n",
       "[8 rows x 13941 columns]"
      ]
     },
     "execution_count": 4,
     "metadata": {},
     "output_type": "execute_result"
    }
   ],
   "source": [
    "cellsT.describe()"
   ]
  },
  {
   "cell_type": "markdown",
   "id": "779c6bcc-b5ad-4ddf-8d05-6b5c33ed1108",
   "metadata": {},
   "source": [
    "# 1 Dimensionality reduction"
   ]
  },
  {
   "cell_type": "markdown",
   "id": "aa21039d-4235-4d06-96ec-813f381fee29",
   "metadata": {},
   "source": [
    "## a)"
   ]
  },
  {
   "cell_type": "markdown",
   "id": "4df49070-8e11-4ad3-b702-90bfa272a556",
   "metadata": {},
   "source": [
    "Let’s start by visualizing the data using dimensionality reduction methods. Use PCA, \n",
    "UMAP and t-SNE algorithms to map the samples onto a 2-D space for visualization \n",
    "(you do not need to implement these methods from scratch. You only need to find \n",
    "their implementation). "
   ]
  },
  {
   "cell_type": "markdown",
   "id": "b18f6fc0-6e41-41a2-9fd5-b75aea4a0fe3",
   "metadata": {},
   "source": [
    "PCA"
   ]
  },
  {
   "cell_type": "code",
   "execution_count": 5,
   "id": "4710a29b-d6cb-46db-8280-e6c2c474dd30",
   "metadata": {},
   "outputs": [
    {
     "data": {
      "text/plain": [
       "(979, 13941)"
      ]
     },
     "execution_count": 5,
     "metadata": {},
     "output_type": "execute_result"
    }
   ],
   "source": [
    "from sklearn.preprocessing import StandardScaler\n",
    "\n",
    "x = cellsT.values\n",
    "x.shape"
   ]
  },
  {
   "cell_type": "code",
   "execution_count": 6,
   "id": "0cf31a9a-4ddb-4229-8a6e-54793dd621d9",
   "metadata": {},
   "outputs": [],
   "source": [
    "# Standardizing the features\n",
    "x = StandardScaler().fit_transform(x)"
   ]
  },
  {
   "cell_type": "code",
   "execution_count": 7,
   "id": "c090de62-b4b3-4477-97f4-8463dfc76d16",
   "metadata": {},
   "outputs": [],
   "source": [
    "from sklearn.decomposition import PCA\n",
    "pca = PCA(n_components=2)\n",
    "drPCA = pca.fit_transform(x)"
   ]
  },
  {
   "cell_type": "code",
   "execution_count": 8,
   "id": "794fde8d-e497-45cc-b02d-c9c27dbbb2dd",
   "metadata": {},
   "outputs": [
    {
     "data": {
      "text/plain": [
       "(979, 2)"
      ]
     },
     "execution_count": 8,
     "metadata": {},
     "output_type": "execute_result"
    }
   ],
   "source": [
    "drPCA.shape"
   ]
  },
  {
   "cell_type": "markdown",
   "id": "0aa726f0-8eb0-4045-b7d9-e423fd9fbc20",
   "metadata": {},
   "source": [
    "UMAP"
   ]
  },
  {
   "cell_type": "code",
   "execution_count": 9,
   "id": "102ec54f-6304-417c-a60a-0641a7dcf96f",
   "metadata": {},
   "outputs": [],
   "source": [
    "import umap"
   ]
  },
  {
   "cell_type": "code",
   "execution_count": 10,
   "id": "1d8d73a7-c17c-471b-8216-04e9c5cc8772",
   "metadata": {},
   "outputs": [
    {
     "data": {
      "text/plain": [
       "(979, 2)"
      ]
     },
     "execution_count": 10,
     "metadata": {},
     "output_type": "execute_result"
    }
   ],
   "source": [
    "reducer = umap.UMAP()\n",
    "drUMAP = reducer.fit_transform(x)\n",
    "drUMAP.shape"
   ]
  },
  {
   "cell_type": "markdown",
   "id": "834787c7-b3df-4aba-983e-38392ab47b46",
   "metadata": {},
   "source": [
    "### t-SNE"
   ]
  },
  {
   "cell_type": "code",
   "execution_count": 11,
   "id": "6c7f6bc6-2e15-40a2-906c-4849eaff137d",
   "metadata": {},
   "outputs": [
    {
     "data": {
      "text/plain": [
       "(979, 2)"
      ]
     },
     "execution_count": 11,
     "metadata": {},
     "output_type": "execute_result"
    }
   ],
   "source": [
    "from sklearn.manifold import TSNE\n",
    "tsne = TSNE(n_components=2, learning_rate='auto', init='random')\n",
    "drTSNE = tsne.fit_transform(x)\n",
    "drTSNE.shape"
   ]
  },
  {
   "cell_type": "markdown",
   "id": "4c651f6e-24d2-4b17-a2c9-fa1fadd77946",
   "metadata": {},
   "source": [
    "### Plot"
   ]
  },
  {
   "cell_type": "code",
   "execution_count": 12,
   "id": "d1bee1b7-aa5a-42c3-b328-2fb41c223971",
   "metadata": {},
   "outputs": [],
   "source": [
    "import matplotlib.pyplot as plt\n",
    "import seaborn as sns"
   ]
  },
  {
   "cell_type": "code",
   "execution_count": 14,
   "id": "48668f0f-44cd-4ddf-93d1-9d02f049325d",
   "metadata": {},
   "outputs": [
    {
     "ename": "ValueError",
     "evalue": "If using all scalar values, you must pass an index",
     "output_type": "error",
     "traceback": [
      "\u001b[0;31m---------------------------------------------------------------------------\u001b[0m",
      "\u001b[0;31mValueError\u001b[0m                                Traceback (most recent call last)",
      "\u001b[0;32m/tmp/ipykernel_4173/621181082.py\u001b[0m in \u001b[0;36m<module>\u001b[0;34m\u001b[0m\n\u001b[0;32m----> 1\u001b[0;31m \u001b[0msns\u001b[0m\u001b[0;34m.\u001b[0m\u001b[0mscatterplot\u001b[0m\u001b[0;34m(\u001b[0m\u001b[0mdata\u001b[0m\u001b[0;34m=\u001b[0m\u001b[0mdrPCA\u001b[0m\u001b[0;34m,\u001b[0m \u001b[0mx\u001b[0m\u001b[0;34m=\u001b[0m\u001b[0;36m0\u001b[0m\u001b[0;34m,\u001b[0m \u001b[0my\u001b[0m\u001b[0;34m=\u001b[0m\u001b[0;36m1\u001b[0m\u001b[0;34m)\u001b[0m\u001b[0;34m\u001b[0m\u001b[0;34m\u001b[0m\u001b[0m\n\u001b[0m\u001b[1;32m      2\u001b[0m \u001b[0mplt\u001b[0m\u001b[0;34m.\u001b[0m\u001b[0mshow\u001b[0m\u001b[0;34m(\u001b[0m\u001b[0;34m)\u001b[0m\u001b[0;34m\u001b[0m\u001b[0;34m\u001b[0m\u001b[0m\n",
      "\u001b[0;32m~/miniconda3/envs/HW1/lib/python3.9/site-packages/seaborn/_decorators.py\u001b[0m in \u001b[0;36minner_f\u001b[0;34m(*args, **kwargs)\u001b[0m\n\u001b[1;32m     44\u001b[0m             )\n\u001b[1;32m     45\u001b[0m         \u001b[0mkwargs\u001b[0m\u001b[0;34m.\u001b[0m\u001b[0mupdate\u001b[0m\u001b[0;34m(\u001b[0m\u001b[0;34m{\u001b[0m\u001b[0mk\u001b[0m\u001b[0;34m:\u001b[0m \u001b[0marg\u001b[0m \u001b[0;32mfor\u001b[0m \u001b[0mk\u001b[0m\u001b[0;34m,\u001b[0m \u001b[0marg\u001b[0m \u001b[0;32min\u001b[0m \u001b[0mzip\u001b[0m\u001b[0;34m(\u001b[0m\u001b[0msig\u001b[0m\u001b[0;34m.\u001b[0m\u001b[0mparameters\u001b[0m\u001b[0;34m,\u001b[0m \u001b[0margs\u001b[0m\u001b[0;34m)\u001b[0m\u001b[0;34m}\u001b[0m\u001b[0;34m)\u001b[0m\u001b[0;34m\u001b[0m\u001b[0;34m\u001b[0m\u001b[0m\n\u001b[0;32m---> 46\u001b[0;31m         \u001b[0;32mreturn\u001b[0m \u001b[0mf\u001b[0m\u001b[0;34m(\u001b[0m\u001b[0;34m**\u001b[0m\u001b[0mkwargs\u001b[0m\u001b[0;34m)\u001b[0m\u001b[0;34m\u001b[0m\u001b[0;34m\u001b[0m\u001b[0m\n\u001b[0m\u001b[1;32m     47\u001b[0m     \u001b[0;32mreturn\u001b[0m \u001b[0minner_f\u001b[0m\u001b[0;34m\u001b[0m\u001b[0;34m\u001b[0m\u001b[0m\n\u001b[1;32m     48\u001b[0m \u001b[0;34m\u001b[0m\u001b[0m\n",
      "\u001b[0;32m~/miniconda3/envs/HW1/lib/python3.9/site-packages/seaborn/relational.py\u001b[0m in \u001b[0;36mscatterplot\u001b[0;34m(x, y, hue, style, size, data, palette, hue_order, hue_norm, sizes, size_order, size_norm, markers, style_order, x_bins, y_bins, units, estimator, ci, n_boot, alpha, x_jitter, y_jitter, legend, ax, **kwargs)\u001b[0m\n\u001b[1;32m    806\u001b[0m \u001b[0;34m\u001b[0m\u001b[0m\n\u001b[1;32m    807\u001b[0m     \u001b[0mvariables\u001b[0m \u001b[0;34m=\u001b[0m \u001b[0m_ScatterPlotter\u001b[0m\u001b[0;34m.\u001b[0m\u001b[0mget_semantics\u001b[0m\u001b[0;34m(\u001b[0m\u001b[0mlocals\u001b[0m\u001b[0;34m(\u001b[0m\u001b[0;34m)\u001b[0m\u001b[0;34m)\u001b[0m\u001b[0;34m\u001b[0m\u001b[0;34m\u001b[0m\u001b[0m\n\u001b[0;32m--> 808\u001b[0;31m     p = _ScatterPlotter(\n\u001b[0m\u001b[1;32m    809\u001b[0m         \u001b[0mdata\u001b[0m\u001b[0;34m=\u001b[0m\u001b[0mdata\u001b[0m\u001b[0;34m,\u001b[0m \u001b[0mvariables\u001b[0m\u001b[0;34m=\u001b[0m\u001b[0mvariables\u001b[0m\u001b[0;34m,\u001b[0m\u001b[0;34m\u001b[0m\u001b[0;34m\u001b[0m\u001b[0m\n\u001b[1;32m    810\u001b[0m         \u001b[0mx_bins\u001b[0m\u001b[0;34m=\u001b[0m\u001b[0mx_bins\u001b[0m\u001b[0;34m,\u001b[0m \u001b[0my_bins\u001b[0m\u001b[0;34m=\u001b[0m\u001b[0my_bins\u001b[0m\u001b[0;34m,\u001b[0m\u001b[0;34m\u001b[0m\u001b[0;34m\u001b[0m\u001b[0m\n",
      "\u001b[0;32m~/miniconda3/envs/HW1/lib/python3.9/site-packages/seaborn/relational.py\u001b[0m in \u001b[0;36m__init__\u001b[0;34m(self, data, variables, x_bins, y_bins, estimator, ci, n_boot, alpha, x_jitter, y_jitter, legend)\u001b[0m\n\u001b[1;32m    585\u001b[0m         )\n\u001b[1;32m    586\u001b[0m \u001b[0;34m\u001b[0m\u001b[0m\n\u001b[0;32m--> 587\u001b[0;31m         \u001b[0msuper\u001b[0m\u001b[0;34m(\u001b[0m\u001b[0;34m)\u001b[0m\u001b[0;34m.\u001b[0m\u001b[0m__init__\u001b[0m\u001b[0;34m(\u001b[0m\u001b[0mdata\u001b[0m\u001b[0;34m=\u001b[0m\u001b[0mdata\u001b[0m\u001b[0;34m,\u001b[0m \u001b[0mvariables\u001b[0m\u001b[0;34m=\u001b[0m\u001b[0mvariables\u001b[0m\u001b[0;34m)\u001b[0m\u001b[0;34m\u001b[0m\u001b[0;34m\u001b[0m\u001b[0m\n\u001b[0m\u001b[1;32m    588\u001b[0m \u001b[0;34m\u001b[0m\u001b[0m\n\u001b[1;32m    589\u001b[0m         \u001b[0mself\u001b[0m\u001b[0;34m.\u001b[0m\u001b[0malpha\u001b[0m \u001b[0;34m=\u001b[0m \u001b[0malpha\u001b[0m\u001b[0;34m\u001b[0m\u001b[0;34m\u001b[0m\u001b[0m\n",
      "\u001b[0;32m~/miniconda3/envs/HW1/lib/python3.9/site-packages/seaborn/_core.py\u001b[0m in \u001b[0;36m__init__\u001b[0;34m(self, data, variables)\u001b[0m\n\u001b[1;32m    603\u001b[0m     \u001b[0;32mdef\u001b[0m \u001b[0m__init__\u001b[0m\u001b[0;34m(\u001b[0m\u001b[0mself\u001b[0m\u001b[0;34m,\u001b[0m \u001b[0mdata\u001b[0m\u001b[0;34m=\u001b[0m\u001b[0;32mNone\u001b[0m\u001b[0;34m,\u001b[0m \u001b[0mvariables\u001b[0m\u001b[0;34m=\u001b[0m\u001b[0;34m{\u001b[0m\u001b[0;34m}\u001b[0m\u001b[0;34m)\u001b[0m\u001b[0;34m:\u001b[0m\u001b[0;34m\u001b[0m\u001b[0;34m\u001b[0m\u001b[0m\n\u001b[1;32m    604\u001b[0m \u001b[0;34m\u001b[0m\u001b[0m\n\u001b[0;32m--> 605\u001b[0;31m         \u001b[0mself\u001b[0m\u001b[0;34m.\u001b[0m\u001b[0massign_variables\u001b[0m\u001b[0;34m(\u001b[0m\u001b[0mdata\u001b[0m\u001b[0;34m,\u001b[0m \u001b[0mvariables\u001b[0m\u001b[0;34m)\u001b[0m\u001b[0;34m\u001b[0m\u001b[0;34m\u001b[0m\u001b[0m\n\u001b[0m\u001b[1;32m    606\u001b[0m \u001b[0;34m\u001b[0m\u001b[0m\n\u001b[1;32m    607\u001b[0m         \u001b[0;32mfor\u001b[0m \u001b[0mvar\u001b[0m\u001b[0;34m,\u001b[0m \u001b[0mcls\u001b[0m \u001b[0;32min\u001b[0m \u001b[0mself\u001b[0m\u001b[0;34m.\u001b[0m\u001b[0m_semantic_mappings\u001b[0m\u001b[0;34m.\u001b[0m\u001b[0mitems\u001b[0m\u001b[0;34m(\u001b[0m\u001b[0;34m)\u001b[0m\u001b[0;34m:\u001b[0m\u001b[0;34m\u001b[0m\u001b[0;34m\u001b[0m\u001b[0m\n",
      "\u001b[0;32m~/miniconda3/envs/HW1/lib/python3.9/site-packages/seaborn/_core.py\u001b[0m in \u001b[0;36massign_variables\u001b[0;34m(self, data, variables)\u001b[0m\n\u001b[1;32m    666\u001b[0m         \u001b[0;32melse\u001b[0m\u001b[0;34m:\u001b[0m\u001b[0;34m\u001b[0m\u001b[0;34m\u001b[0m\u001b[0m\n\u001b[1;32m    667\u001b[0m             \u001b[0mself\u001b[0m\u001b[0;34m.\u001b[0m\u001b[0minput_format\u001b[0m \u001b[0;34m=\u001b[0m \u001b[0;34m\"long\"\u001b[0m\u001b[0;34m\u001b[0m\u001b[0;34m\u001b[0m\u001b[0m\n\u001b[0;32m--> 668\u001b[0;31m             plot_data, variables = self._assign_variables_longform(\n\u001b[0m\u001b[1;32m    669\u001b[0m                 \u001b[0mdata\u001b[0m\u001b[0;34m,\u001b[0m \u001b[0;34m**\u001b[0m\u001b[0mvariables\u001b[0m\u001b[0;34m,\u001b[0m\u001b[0;34m\u001b[0m\u001b[0;34m\u001b[0m\u001b[0m\n\u001b[1;32m    670\u001b[0m             )\n",
      "\u001b[0;32m~/miniconda3/envs/HW1/lib/python3.9/site-packages/seaborn/_core.py\u001b[0m in \u001b[0;36m_assign_variables_longform\u001b[0;34m(self, data, **kwargs)\u001b[0m\n\u001b[1;32m    925\u001b[0m         \u001b[0;31m# Construct a tidy plot DataFrame. This will convert a number of\u001b[0m\u001b[0;34m\u001b[0m\u001b[0;34m\u001b[0m\u001b[0m\n\u001b[1;32m    926\u001b[0m         \u001b[0;31m# types automatically, aligning on index in case of pandas objects\u001b[0m\u001b[0;34m\u001b[0m\u001b[0;34m\u001b[0m\u001b[0m\n\u001b[0;32m--> 927\u001b[0;31m         \u001b[0mplot_data\u001b[0m \u001b[0;34m=\u001b[0m \u001b[0mpd\u001b[0m\u001b[0;34m.\u001b[0m\u001b[0mDataFrame\u001b[0m\u001b[0;34m(\u001b[0m\u001b[0mplot_data\u001b[0m\u001b[0;34m)\u001b[0m\u001b[0;34m\u001b[0m\u001b[0;34m\u001b[0m\u001b[0m\n\u001b[0m\u001b[1;32m    928\u001b[0m \u001b[0;34m\u001b[0m\u001b[0m\n\u001b[1;32m    929\u001b[0m         \u001b[0;31m# Reduce the variables dictionary to fields with valid data\u001b[0m\u001b[0;34m\u001b[0m\u001b[0;34m\u001b[0m\u001b[0m\n",
      "\u001b[0;32m~/miniconda3/envs/HW1/lib/python3.9/site-packages/pandas/core/frame.py\u001b[0m in \u001b[0;36m__init__\u001b[0;34m(self, data, index, columns, dtype, copy)\u001b[0m\n\u001b[1;32m    612\u001b[0m         \u001b[0;32melif\u001b[0m \u001b[0misinstance\u001b[0m\u001b[0;34m(\u001b[0m\u001b[0mdata\u001b[0m\u001b[0;34m,\u001b[0m \u001b[0mdict\u001b[0m\u001b[0;34m)\u001b[0m\u001b[0;34m:\u001b[0m\u001b[0;34m\u001b[0m\u001b[0;34m\u001b[0m\u001b[0m\n\u001b[1;32m    613\u001b[0m             \u001b[0;31m# GH#38939 de facto copy defaults to False only in non-dict cases\u001b[0m\u001b[0;34m\u001b[0m\u001b[0;34m\u001b[0m\u001b[0m\n\u001b[0;32m--> 614\u001b[0;31m             \u001b[0mmgr\u001b[0m \u001b[0;34m=\u001b[0m \u001b[0mdict_to_mgr\u001b[0m\u001b[0;34m(\u001b[0m\u001b[0mdata\u001b[0m\u001b[0;34m,\u001b[0m \u001b[0mindex\u001b[0m\u001b[0;34m,\u001b[0m \u001b[0mcolumns\u001b[0m\u001b[0;34m,\u001b[0m \u001b[0mdtype\u001b[0m\u001b[0;34m=\u001b[0m\u001b[0mdtype\u001b[0m\u001b[0;34m,\u001b[0m \u001b[0mcopy\u001b[0m\u001b[0;34m=\u001b[0m\u001b[0mcopy\u001b[0m\u001b[0;34m,\u001b[0m \u001b[0mtyp\u001b[0m\u001b[0;34m=\u001b[0m\u001b[0mmanager\u001b[0m\u001b[0;34m)\u001b[0m\u001b[0;34m\u001b[0m\u001b[0;34m\u001b[0m\u001b[0m\n\u001b[0m\u001b[1;32m    615\u001b[0m         \u001b[0;32melif\u001b[0m \u001b[0misinstance\u001b[0m\u001b[0;34m(\u001b[0m\u001b[0mdata\u001b[0m\u001b[0;34m,\u001b[0m \u001b[0mma\u001b[0m\u001b[0;34m.\u001b[0m\u001b[0mMaskedArray\u001b[0m\u001b[0;34m)\u001b[0m\u001b[0;34m:\u001b[0m\u001b[0;34m\u001b[0m\u001b[0;34m\u001b[0m\u001b[0m\n\u001b[1;32m    616\u001b[0m             \u001b[0;32mimport\u001b[0m \u001b[0mnumpy\u001b[0m\u001b[0;34m.\u001b[0m\u001b[0mma\u001b[0m\u001b[0;34m.\u001b[0m\u001b[0mmrecords\u001b[0m \u001b[0;32mas\u001b[0m \u001b[0mmrecords\u001b[0m\u001b[0;34m\u001b[0m\u001b[0;34m\u001b[0m\u001b[0m\n",
      "\u001b[0;32m~/miniconda3/envs/HW1/lib/python3.9/site-packages/pandas/core/internals/construction.py\u001b[0m in \u001b[0;36mdict_to_mgr\u001b[0;34m(data, index, columns, dtype, typ, copy)\u001b[0m\n\u001b[1;32m    462\u001b[0m         \u001b[0;31m# TODO: can we get rid of the dt64tz special case above?\u001b[0m\u001b[0;34m\u001b[0m\u001b[0;34m\u001b[0m\u001b[0m\n\u001b[1;32m    463\u001b[0m \u001b[0;34m\u001b[0m\u001b[0m\n\u001b[0;32m--> 464\u001b[0;31m     return arrays_to_mgr(\n\u001b[0m\u001b[1;32m    465\u001b[0m         \u001b[0marrays\u001b[0m\u001b[0;34m,\u001b[0m \u001b[0mdata_names\u001b[0m\u001b[0;34m,\u001b[0m \u001b[0mindex\u001b[0m\u001b[0;34m,\u001b[0m \u001b[0mcolumns\u001b[0m\u001b[0;34m,\u001b[0m \u001b[0mdtype\u001b[0m\u001b[0;34m=\u001b[0m\u001b[0mdtype\u001b[0m\u001b[0;34m,\u001b[0m \u001b[0mtyp\u001b[0m\u001b[0;34m=\u001b[0m\u001b[0mtyp\u001b[0m\u001b[0;34m,\u001b[0m \u001b[0mconsolidate\u001b[0m\u001b[0;34m=\u001b[0m\u001b[0mcopy\u001b[0m\u001b[0;34m\u001b[0m\u001b[0;34m\u001b[0m\u001b[0m\n\u001b[1;32m    466\u001b[0m     )\n",
      "\u001b[0;32m~/miniconda3/envs/HW1/lib/python3.9/site-packages/pandas/core/internals/construction.py\u001b[0m in \u001b[0;36marrays_to_mgr\u001b[0;34m(arrays, arr_names, index, columns, dtype, verify_integrity, typ, consolidate)\u001b[0m\n\u001b[1;32m    117\u001b[0m         \u001b[0;31m# figure out the index, if necessary\u001b[0m\u001b[0;34m\u001b[0m\u001b[0;34m\u001b[0m\u001b[0m\n\u001b[1;32m    118\u001b[0m         \u001b[0;32mif\u001b[0m \u001b[0mindex\u001b[0m \u001b[0;32mis\u001b[0m \u001b[0;32mNone\u001b[0m\u001b[0;34m:\u001b[0m\u001b[0;34m\u001b[0m\u001b[0;34m\u001b[0m\u001b[0m\n\u001b[0;32m--> 119\u001b[0;31m             \u001b[0mindex\u001b[0m \u001b[0;34m=\u001b[0m \u001b[0m_extract_index\u001b[0m\u001b[0;34m(\u001b[0m\u001b[0marrays\u001b[0m\u001b[0;34m)\u001b[0m\u001b[0;34m\u001b[0m\u001b[0;34m\u001b[0m\u001b[0m\n\u001b[0m\u001b[1;32m    120\u001b[0m         \u001b[0;32melse\u001b[0m\u001b[0;34m:\u001b[0m\u001b[0;34m\u001b[0m\u001b[0;34m\u001b[0m\u001b[0m\n\u001b[1;32m    121\u001b[0m             \u001b[0mindex\u001b[0m \u001b[0;34m=\u001b[0m \u001b[0mensure_index\u001b[0m\u001b[0;34m(\u001b[0m\u001b[0mindex\u001b[0m\u001b[0;34m)\u001b[0m\u001b[0;34m\u001b[0m\u001b[0;34m\u001b[0m\u001b[0m\n",
      "\u001b[0;32m~/miniconda3/envs/HW1/lib/python3.9/site-packages/pandas/core/internals/construction.py\u001b[0m in \u001b[0;36m_extract_index\u001b[0;34m(data)\u001b[0m\n\u001b[1;32m    623\u001b[0m \u001b[0;34m\u001b[0m\u001b[0m\n\u001b[1;32m    624\u001b[0m         \u001b[0;32mif\u001b[0m \u001b[0;32mnot\u001b[0m \u001b[0mindexes\u001b[0m \u001b[0;32mand\u001b[0m \u001b[0;32mnot\u001b[0m \u001b[0mraw_lengths\u001b[0m\u001b[0;34m:\u001b[0m\u001b[0;34m\u001b[0m\u001b[0;34m\u001b[0m\u001b[0m\n\u001b[0;32m--> 625\u001b[0;31m             \u001b[0;32mraise\u001b[0m \u001b[0mValueError\u001b[0m\u001b[0;34m(\u001b[0m\u001b[0;34m\"If using all scalar values, you must pass an index\"\u001b[0m\u001b[0;34m)\u001b[0m\u001b[0;34m\u001b[0m\u001b[0;34m\u001b[0m\u001b[0m\n\u001b[0m\u001b[1;32m    626\u001b[0m \u001b[0;34m\u001b[0m\u001b[0m\n\u001b[1;32m    627\u001b[0m         \u001b[0;32mif\u001b[0m \u001b[0mhave_series\u001b[0m\u001b[0;34m:\u001b[0m\u001b[0;34m\u001b[0m\u001b[0;34m\u001b[0m\u001b[0m\n",
      "\u001b[0;31mValueError\u001b[0m: If using all scalar values, you must pass an index"
     ]
    }
   ],
   "source": [
    "sns.scatterplot(data=drPCA, x=0, y=1)\n",
    "plt.show()"
   ]
  },
  {
   "cell_type": "code",
   "execution_count": null,
   "id": "3dde3650-4156-4bcd-80ef-f33febdf0a80",
   "metadata": {},
   "outputs": [],
   "source": []
  }
 ],
 "metadata": {
  "kernelspec": {
   "display_name": "Python 3 (ipykernel)",
   "language": "python",
   "name": "python3"
  },
  "language_info": {
   "codemirror_mode": {
    "name": "ipython",
    "version": 3
   },
   "file_extension": ".py",
   "mimetype": "text/x-python",
   "name": "python",
   "nbconvert_exporter": "python",
   "pygments_lexer": "ipython3",
   "version": "3.9.7"
  }
 },
 "nbformat": 4,
 "nbformat_minor": 5
}
